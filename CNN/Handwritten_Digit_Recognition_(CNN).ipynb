{
  "nbformat": 4,
  "nbformat_minor": 0,
  "metadata": {
    "colab": {
      "provenance": []
    },
    "kernelspec": {
      "name": "python3",
      "display_name": "Python 3"
    },
    "language_info": {
      "name": "python"
    }
  },
  "cells": [
    {
      "cell_type": "code",
      "execution_count": 1,
      "metadata": {
        "id": "A32pym8HThgT"
      },
      "outputs": [],
      "source": [
        "from torchvision import datasets\n",
        "from torchvision.transforms import ToTensor"
      ]
    },
    {
      "cell_type": "code",
      "source": [
        "# train data\n",
        "train_data = datasets.MNIST(\n",
        "    root = 'data',\n",
        "    train = True,\n",
        "    transform = ToTensor(),\n",
        "    download = True\n",
        ")"
      ],
      "metadata": {
        "colab": {
          "base_uri": "https://localhost:8080/"
        },
        "id": "WOCNf4lfUoyX",
        "outputId": "041efa71-a13d-47f3-fde9-a5bd8cd28e85"
      },
      "execution_count": 5,
      "outputs": [
        {
          "output_type": "stream",
          "name": "stdout",
          "text": [
            "Downloading http://yann.lecun.com/exdb/mnist/train-images-idx3-ubyte.gz\n",
            "Failed to download (trying next):\n",
            "HTTP Error 403: Forbidden\n",
            "\n",
            "Downloading https://ossci-datasets.s3.amazonaws.com/mnist/train-images-idx3-ubyte.gz\n",
            "Downloading https://ossci-datasets.s3.amazonaws.com/mnist/train-images-idx3-ubyte.gz to data/MNIST/raw/train-images-idx3-ubyte.gz\n"
          ]
        },
        {
          "output_type": "stream",
          "name": "stderr",
          "text": [
            "100%|██████████| 9912422/9912422 [00:00<00:00, 12731041.48it/s]\n"
          ]
        },
        {
          "output_type": "stream",
          "name": "stdout",
          "text": [
            "Extracting data/MNIST/raw/train-images-idx3-ubyte.gz to data/MNIST/raw\n",
            "\n",
            "Downloading http://yann.lecun.com/exdb/mnist/train-labels-idx1-ubyte.gz\n",
            "Failed to download (trying next):\n",
            "HTTP Error 403: Forbidden\n",
            "\n",
            "Downloading https://ossci-datasets.s3.amazonaws.com/mnist/train-labels-idx1-ubyte.gz\n",
            "Downloading https://ossci-datasets.s3.amazonaws.com/mnist/train-labels-idx1-ubyte.gz to data/MNIST/raw/train-labels-idx1-ubyte.gz\n"
          ]
        },
        {
          "output_type": "stream",
          "name": "stderr",
          "text": [
            "100%|██████████| 28881/28881 [00:00<00:00, 350724.53it/s]\n"
          ]
        },
        {
          "output_type": "stream",
          "name": "stdout",
          "text": [
            "Extracting data/MNIST/raw/train-labels-idx1-ubyte.gz to data/MNIST/raw\n",
            "\n",
            "Downloading http://yann.lecun.com/exdb/mnist/t10k-images-idx3-ubyte.gz\n",
            "Failed to download (trying next):\n",
            "HTTP Error 403: Forbidden\n",
            "\n",
            "Downloading https://ossci-datasets.s3.amazonaws.com/mnist/t10k-images-idx3-ubyte.gz\n",
            "Downloading https://ossci-datasets.s3.amazonaws.com/mnist/t10k-images-idx3-ubyte.gz to data/MNIST/raw/t10k-images-idx3-ubyte.gz\n"
          ]
        },
        {
          "output_type": "stream",
          "name": "stderr",
          "text": [
            "100%|██████████| 1648877/1648877 [00:00<00:00, 3207829.62it/s]\n"
          ]
        },
        {
          "output_type": "stream",
          "name": "stdout",
          "text": [
            "Extracting data/MNIST/raw/t10k-images-idx3-ubyte.gz to data/MNIST/raw\n",
            "\n",
            "Downloading http://yann.lecun.com/exdb/mnist/t10k-labels-idx1-ubyte.gz\n",
            "Failed to download (trying next):\n",
            "HTTP Error 403: Forbidden\n",
            "\n",
            "Downloading https://ossci-datasets.s3.amazonaws.com/mnist/t10k-labels-idx1-ubyte.gz\n",
            "Downloading https://ossci-datasets.s3.amazonaws.com/mnist/t10k-labels-idx1-ubyte.gz to data/MNIST/raw/t10k-labels-idx1-ubyte.gz\n"
          ]
        },
        {
          "output_type": "stream",
          "name": "stderr",
          "text": [
            "100%|██████████| 4542/4542 [00:00<00:00, 2424965.47it/s]\n"
          ]
        },
        {
          "output_type": "stream",
          "name": "stdout",
          "text": [
            "Extracting data/MNIST/raw/t10k-labels-idx1-ubyte.gz to data/MNIST/raw\n",
            "\n"
          ]
        }
      ]
    },
    {
      "cell_type": "code",
      "source": [
        "# test data\n",
        "test_data = datasets.MNIST(\n",
        "    root = 'data',\n",
        "    train = False,\n",
        "    transform = ToTensor(),\n",
        "    download = True\n",
        ")"
      ],
      "metadata": {
        "id": "yyG06AJfU85C"
      },
      "execution_count": 7,
      "outputs": []
    },
    {
      "cell_type": "code",
      "source": [
        "train_data"
      ],
      "metadata": {
        "colab": {
          "base_uri": "https://localhost:8080/"
        },
        "id": "5lM0WvhJWNw5",
        "outputId": "b41a9f0c-3f5a-449a-fe6d-2c60a173ab33"
      },
      "execution_count": 8,
      "outputs": [
        {
          "output_type": "execute_result",
          "data": {
            "text/plain": [
              "Dataset MNIST\n",
              "    Number of datapoints: 60000\n",
              "    Root location: data\n",
              "    Split: Train\n",
              "    StandardTransform\n",
              "Transform: ToTensor()"
            ]
          },
          "metadata": {},
          "execution_count": 8
        }
      ]
    },
    {
      "cell_type": "code",
      "source": [
        "test_data"
      ],
      "metadata": {
        "colab": {
          "base_uri": "https://localhost:8080/"
        },
        "id": "aUMic-TTWP5n",
        "outputId": "31554a42-eb1d-48a4-cf3b-2bb94cd0bbba"
      },
      "execution_count": 9,
      "outputs": [
        {
          "output_type": "execute_result",
          "data": {
            "text/plain": [
              "Dataset MNIST\n",
              "    Number of datapoints: 10000\n",
              "    Root location: data\n",
              "    Split: Test\n",
              "    StandardTransform\n",
              "Transform: ToTensor()"
            ]
          },
          "metadata": {},
          "execution_count": 9
        }
      ]
    },
    {
      "cell_type": "code",
      "source": [
        "train_data.data"
      ],
      "metadata": {
        "colab": {
          "base_uri": "https://localhost:8080/"
        },
        "id": "wC6jjuXEWbnV",
        "outputId": "7cfff8f0-d0d9-4fd8-f9f9-f0e1327052f9"
      },
      "execution_count": 10,
      "outputs": [
        {
          "output_type": "execute_result",
          "data": {
            "text/plain": [
              "tensor([[[0, 0, 0,  ..., 0, 0, 0],\n",
              "         [0, 0, 0,  ..., 0, 0, 0],\n",
              "         [0, 0, 0,  ..., 0, 0, 0],\n",
              "         ...,\n",
              "         [0, 0, 0,  ..., 0, 0, 0],\n",
              "         [0, 0, 0,  ..., 0, 0, 0],\n",
              "         [0, 0, 0,  ..., 0, 0, 0]],\n",
              "\n",
              "        [[0, 0, 0,  ..., 0, 0, 0],\n",
              "         [0, 0, 0,  ..., 0, 0, 0],\n",
              "         [0, 0, 0,  ..., 0, 0, 0],\n",
              "         ...,\n",
              "         [0, 0, 0,  ..., 0, 0, 0],\n",
              "         [0, 0, 0,  ..., 0, 0, 0],\n",
              "         [0, 0, 0,  ..., 0, 0, 0]],\n",
              "\n",
              "        [[0, 0, 0,  ..., 0, 0, 0],\n",
              "         [0, 0, 0,  ..., 0, 0, 0],\n",
              "         [0, 0, 0,  ..., 0, 0, 0],\n",
              "         ...,\n",
              "         [0, 0, 0,  ..., 0, 0, 0],\n",
              "         [0, 0, 0,  ..., 0, 0, 0],\n",
              "         [0, 0, 0,  ..., 0, 0, 0]],\n",
              "\n",
              "        ...,\n",
              "\n",
              "        [[0, 0, 0,  ..., 0, 0, 0],\n",
              "         [0, 0, 0,  ..., 0, 0, 0],\n",
              "         [0, 0, 0,  ..., 0, 0, 0],\n",
              "         ...,\n",
              "         [0, 0, 0,  ..., 0, 0, 0],\n",
              "         [0, 0, 0,  ..., 0, 0, 0],\n",
              "         [0, 0, 0,  ..., 0, 0, 0]],\n",
              "\n",
              "        [[0, 0, 0,  ..., 0, 0, 0],\n",
              "         [0, 0, 0,  ..., 0, 0, 0],\n",
              "         [0, 0, 0,  ..., 0, 0, 0],\n",
              "         ...,\n",
              "         [0, 0, 0,  ..., 0, 0, 0],\n",
              "         [0, 0, 0,  ..., 0, 0, 0],\n",
              "         [0, 0, 0,  ..., 0, 0, 0]],\n",
              "\n",
              "        [[0, 0, 0,  ..., 0, 0, 0],\n",
              "         [0, 0, 0,  ..., 0, 0, 0],\n",
              "         [0, 0, 0,  ..., 0, 0, 0],\n",
              "         ...,\n",
              "         [0, 0, 0,  ..., 0, 0, 0],\n",
              "         [0, 0, 0,  ..., 0, 0, 0],\n",
              "         [0, 0, 0,  ..., 0, 0, 0]]], dtype=torch.uint8)"
            ]
          },
          "metadata": {},
          "execution_count": 10
        }
      ]
    },
    {
      "cell_type": "code",
      "source": [
        "train_data.data.size()"
      ],
      "metadata": {
        "colab": {
          "base_uri": "https://localhost:8080/"
        },
        "id": "jgq_OdMVWhQU",
        "outputId": "235166d6-d270-46d6-a822-020d4ee21c85"
      },
      "execution_count": 12,
      "outputs": [
        {
          "output_type": "execute_result",
          "data": {
            "text/plain": [
              "torch.Size([60000, 28, 28])"
            ]
          },
          "metadata": {},
          "execution_count": 12
        }
      ]
    },
    {
      "cell_type": "code",
      "source": [
        "train_data.data.shape"
      ],
      "metadata": {
        "colab": {
          "base_uri": "https://localhost:8080/"
        },
        "id": "Sc_P3kpDW9XY",
        "outputId": "792aa673-69ff-4d7c-e88a-d560eb7f05be"
      },
      "execution_count": 13,
      "outputs": [
        {
          "output_type": "execute_result",
          "data": {
            "text/plain": [
              "torch.Size([60000, 28, 28])"
            ]
          },
          "metadata": {},
          "execution_count": 13
        }
      ]
    },
    {
      "cell_type": "code",
      "source": [
        "train_data.targets.size()"
      ],
      "metadata": {
        "colab": {
          "base_uri": "https://localhost:8080/"
        },
        "id": "LN-7jqoCXBxY",
        "outputId": "2a8f9f10-9aba-43d5-d256-89daa0229abc"
      },
      "execution_count": 15,
      "outputs": [
        {
          "output_type": "execute_result",
          "data": {
            "text/plain": [
              "torch.Size([60000])"
            ]
          },
          "metadata": {},
          "execution_count": 15
        }
      ]
    },
    {
      "cell_type": "code",
      "source": [
        "from torch.utils.data import DataLoader\n",
        "\n",
        "loaders = {\n",
        "    'train': DataLoader(train_data, batch_size=100, shuffle=True, num_workers=1),\n",
        "    'test': DataLoader(test_data, batch_size=100, shuffle=True, num_workers=1)\n",
        "}"
      ],
      "metadata": {
        "id": "hYrJW7_OXIvA"
      },
      "execution_count": 17,
      "outputs": []
    },
    {
      "cell_type": "code",
      "source": [
        "loaders"
      ],
      "metadata": {
        "colab": {
          "base_uri": "https://localhost:8080/"
        },
        "id": "Gg7Kre1NXwB9",
        "outputId": "8d99bf1d-7a5e-4eaa-c7cb-502ef515c96e"
      },
      "execution_count": 18,
      "outputs": [
        {
          "output_type": "execute_result",
          "data": {
            "text/plain": [
              "{'train': <torch.utils.data.dataloader.DataLoader at 0x7ac8510a6d40>,\n",
              " 'test': <torch.utils.data.dataloader.DataLoader at 0x7ac8510a71c0>}"
            ]
          },
          "metadata": {},
          "execution_count": 18
        }
      ]
    },
    {
      "cell_type": "code",
      "source": [
        "import torch.nn as nn\n",
        "import torch.nn.functional as F\n",
        "import torch.optim as optim\n",
        "\n",
        "class CNN(nn.Module):\n",
        "\n",
        "  def __init__(self):\n",
        "    super(CNN, self).__init__()\n",
        "\n",
        "    self.conv1 = nn.Conv2d(1, 10, kernel_size=5)\n",
        "    self.conv2 = nn.Conv2d(10, 20, kernel_size=5)\n",
        "    self.conv2_drop = nn.Dropout2d()\n",
        "    self.fc1 = nn.Linear(320, 50)\n",
        "    self.fc2 = nn.Linear(50, 10)\n",
        "\n",
        "  def forward(self, x):\n",
        "    x = F.relu(F.max_pool2d(self.conv1(x), 2))\n",
        "    x = F.relu(F.max_pool2d(self.conv2_drop(self.conv2(x)), 2))\n",
        "    x = x.view(-1, 320)\n",
        "    x = F.relu(self.fc1(x))\n",
        "    x = F.dropout(x, training=self.training)\n",
        "    x = self.fc2(x)\n",
        "\n",
        "    return F.softmax(x)"
      ],
      "metadata": {
        "id": "orlr-gmvX097"
      },
      "execution_count": 19,
      "outputs": []
    },
    {
      "cell_type": "code",
      "source": [
        "import torch\n",
        "\n",
        "device = torch.device('cuda' if torch.cuda.is_available() else 'cpu')\n",
        "\n",
        "model = CNN().to(device)\n",
        "\n",
        "optimizer = optim.Adam(model.parameters(), lr=0.001)\n",
        "\n",
        "criterion = nn.CrossEntropyLoss()\n",
        "\n",
        "def train(epoch):\n",
        "  model.train()\n",
        "  for batch_idx, (data, target) in enumerate(loaders['train']):\n",
        "    data, target = data.to(device), target.to(device)\n",
        "    optimizer.zero_grad()\n",
        "    output = model(data)\n",
        "    loss = criterion(output, target)\n",
        "    loss.backward()\n",
        "    optimizer.step()\n",
        "    if batch_idx % 20 == 0:\n",
        "      print(f\"Train Epoch: {epoch} [{batch_idx * len(data)} / {len(loaders['train'].dataset)} ({100. * batch_idx / len(loaders['train']): .0}%)] \\t {loss.item():.6}\")\n",
        "\n",
        "def test():\n",
        "  model.eval()\n",
        "  test_loss = 0\n",
        "  correct = 0\n",
        "  with torch.no_grad():\n",
        "    for data, target in loaders['test']:\n",
        "      data, target = data.to(device), target.to(device)\n",
        "      output = model(data)\n",
        "      test_loss += criterion(output, target).item()\n",
        "      pred = output.data.argmax(dim=1, keepdim=True)\n",
        "      correct += pred.eq(target.view_as(pred)).sum().item()\n",
        "    test_loss /=len(loaders['test'].dataset)\n",
        "    print(f\"\\nTest set: Average loss: {test_loss:.4f}, Accuracy: {correct}/{len(loaders['test'].dataset)} ({100. * correct / len(loaders['test'].dataset):.0f}%\\n\")"
      ],
      "metadata": {
        "id": "96OTdIOhaeJp"
      },
      "execution_count": 26,
      "outputs": []
    },
    {
      "cell_type": "code",
      "source": [
        "for epoch in range(1, 11):\n",
        "  train(epoch)\n",
        "  test()"
      ],
      "metadata": {
        "colab": {
          "base_uri": "https://localhost:8080/"
        },
        "id": "xYhr3ryifwfy",
        "outputId": "8352e83f-65b3-4e97-8205-13dfc38112a7"
      },
      "execution_count": 27,
      "outputs": [
        {
          "output_type": "stream",
          "name": "stderr",
          "text": [
            "<ipython-input-19-3d05f2e2349e>:24: UserWarning: Implicit dimension choice for softmax has been deprecated. Change the call to include dim=X as an argument.\n",
            "  return F.softmax(x)\n"
          ]
        },
        {
          "output_type": "stream",
          "name": "stdout",
          "text": [
            "Train Epoch: 1 [0 / 60000 ( 0e+00%)] \t 2.30338\n",
            "Train Epoch: 1 [2000 / 60000 ( 3e+00%)] \t 2.28977\n",
            "Train Epoch: 1 [4000 / 60000 ( 7e+00%)] \t 2.16696\n",
            "Train Epoch: 1 [6000 / 60000 ( 1e+01%)] \t 2.02476\n",
            "Train Epoch: 1 [8000 / 60000 ( 1e+01%)] \t 2.01003\n",
            "Train Epoch: 1 [10000 / 60000 ( 2e+01%)] \t 1.83396\n",
            "Train Epoch: 1 [12000 / 60000 ( 2e+01%)] \t 1.80199\n",
            "Train Epoch: 1 [14000 / 60000 ( 2e+01%)] \t 1.85815\n",
            "Train Epoch: 1 [16000 / 60000 ( 3e+01%)] \t 1.70374\n",
            "Train Epoch: 1 [18000 / 60000 ( 3e+01%)] \t 1.7511\n",
            "Train Epoch: 1 [20000 / 60000 ( 3e+01%)] \t 1.77193\n",
            "Train Epoch: 1 [22000 / 60000 ( 4e+01%)] \t 1.74146\n",
            "Train Epoch: 1 [24000 / 60000 ( 4e+01%)] \t 1.65165\n",
            "Train Epoch: 1 [26000 / 60000 ( 4e+01%)] \t 1.75845\n",
            "Train Epoch: 1 [28000 / 60000 ( 5e+01%)] \t 1.72166\n",
            "Train Epoch: 1 [30000 / 60000 ( 5e+01%)] \t 1.6871\n",
            "Train Epoch: 1 [32000 / 60000 ( 5e+01%)] \t 1.66817\n",
            "Train Epoch: 1 [34000 / 60000 ( 6e+01%)] \t 1.63712\n",
            "Train Epoch: 1 [36000 / 60000 ( 6e+01%)] \t 1.62441\n",
            "Train Epoch: 1 [38000 / 60000 ( 6e+01%)] \t 1.67558\n",
            "Train Epoch: 1 [40000 / 60000 ( 7e+01%)] \t 1.69259\n",
            "Train Epoch: 1 [42000 / 60000 ( 7e+01%)] \t 1.67354\n",
            "Train Epoch: 1 [44000 / 60000 ( 7e+01%)] \t 1.63603\n",
            "Train Epoch: 1 [46000 / 60000 ( 8e+01%)] \t 1.6223\n",
            "Train Epoch: 1 [48000 / 60000 ( 8e+01%)] \t 1.61894\n",
            "Train Epoch: 1 [50000 / 60000 ( 8e+01%)] \t 1.54591\n",
            "Train Epoch: 1 [52000 / 60000 ( 9e+01%)] \t 1.62895\n",
            "Train Epoch: 1 [54000 / 60000 ( 9e+01%)] \t 1.63154\n",
            "Train Epoch: 1 [56000 / 60000 ( 9e+01%)] \t 1.59817\n",
            "Train Epoch: 1 [58000 / 60000 ( 1e+02%)] \t 1.57354\n",
            "\n",
            "Test set: Average loss: 0.0153, Accuracy: 9386/10000 (94%\n",
            "\n",
            "Train Epoch: 2 [0 / 60000 ( 0e+00%)] \t 1.65194\n",
            "Train Epoch: 2 [2000 / 60000 ( 3e+00%)] \t 1.63835\n",
            "Train Epoch: 2 [4000 / 60000 ( 7e+00%)] \t 1.58217\n",
            "Train Epoch: 2 [6000 / 60000 ( 1e+01%)] \t 1.56874\n",
            "Train Epoch: 2 [8000 / 60000 ( 1e+01%)] \t 1.60681\n",
            "Train Epoch: 2 [10000 / 60000 ( 2e+01%)] \t 1.62668\n",
            "Train Epoch: 2 [12000 / 60000 ( 2e+01%)] \t 1.57025\n",
            "Train Epoch: 2 [14000 / 60000 ( 2e+01%)] \t 1.61562\n",
            "Train Epoch: 2 [16000 / 60000 ( 3e+01%)] \t 1.5931\n",
            "Train Epoch: 2 [18000 / 60000 ( 3e+01%)] \t 1.61064\n",
            "Train Epoch: 2 [20000 / 60000 ( 3e+01%)] \t 1.57901\n",
            "Train Epoch: 2 [22000 / 60000 ( 4e+01%)] \t 1.61435\n",
            "Train Epoch: 2 [24000 / 60000 ( 4e+01%)] \t 1.56527\n",
            "Train Epoch: 2 [26000 / 60000 ( 4e+01%)] \t 1.56132\n",
            "Train Epoch: 2 [28000 / 60000 ( 5e+01%)] \t 1.55637\n",
            "Train Epoch: 2 [30000 / 60000 ( 5e+01%)] \t 1.59075\n",
            "Train Epoch: 2 [32000 / 60000 ( 5e+01%)] \t 1.5727\n",
            "Train Epoch: 2 [34000 / 60000 ( 6e+01%)] \t 1.59771\n",
            "Train Epoch: 2 [36000 / 60000 ( 6e+01%)] \t 1.57331\n",
            "Train Epoch: 2 [38000 / 60000 ( 6e+01%)] \t 1.57509\n",
            "Train Epoch: 2 [40000 / 60000 ( 7e+01%)] \t 1.58883\n",
            "Train Epoch: 2 [42000 / 60000 ( 7e+01%)] \t 1.56219\n",
            "Train Epoch: 2 [44000 / 60000 ( 7e+01%)] \t 1.589\n",
            "Train Epoch: 2 [46000 / 60000 ( 8e+01%)] \t 1.58252\n",
            "Train Epoch: 2 [48000 / 60000 ( 8e+01%)] \t 1.57527\n",
            "Train Epoch: 2 [50000 / 60000 ( 8e+01%)] \t 1.59682\n",
            "Train Epoch: 2 [52000 / 60000 ( 9e+01%)] \t 1.57957\n",
            "Train Epoch: 2 [54000 / 60000 ( 9e+01%)] \t 1.5715\n",
            "Train Epoch: 2 [56000 / 60000 ( 9e+01%)] \t 1.53896\n",
            "Train Epoch: 2 [58000 / 60000 ( 1e+02%)] \t 1.53082\n",
            "\n",
            "Test set: Average loss: 0.0151, Accuracy: 9529/10000 (95%\n",
            "\n",
            "Train Epoch: 3 [0 / 60000 ( 0e+00%)] \t 1.56869\n",
            "Train Epoch: 3 [2000 / 60000 ( 3e+00%)] \t 1.56882\n",
            "Train Epoch: 3 [4000 / 60000 ( 7e+00%)] \t 1.54406\n",
            "Train Epoch: 3 [6000 / 60000 ( 1e+01%)] \t 1.57349\n",
            "Train Epoch: 3 [8000 / 60000 ( 1e+01%)] \t 1.53403\n",
            "Train Epoch: 3 [10000 / 60000 ( 2e+01%)] \t 1.60764\n",
            "Train Epoch: 3 [12000 / 60000 ( 2e+01%)] \t 1.58004\n",
            "Train Epoch: 3 [14000 / 60000 ( 2e+01%)] \t 1.53107\n",
            "Train Epoch: 3 [16000 / 60000 ( 3e+01%)] \t 1.52712\n",
            "Train Epoch: 3 [18000 / 60000 ( 3e+01%)] \t 1.57803\n",
            "Train Epoch: 3 [20000 / 60000 ( 3e+01%)] \t 1.57487\n",
            "Train Epoch: 3 [22000 / 60000 ( 4e+01%)] \t 1.56969\n",
            "Train Epoch: 3 [24000 / 60000 ( 4e+01%)] \t 1.50705\n",
            "Train Epoch: 3 [26000 / 60000 ( 4e+01%)] \t 1.61409\n",
            "Train Epoch: 3 [28000 / 60000 ( 5e+01%)] \t 1.53756\n",
            "Train Epoch: 3 [30000 / 60000 ( 5e+01%)] \t 1.56525\n",
            "Train Epoch: 3 [32000 / 60000 ( 5e+01%)] \t 1.55563\n",
            "Train Epoch: 3 [34000 / 60000 ( 6e+01%)] \t 1.58744\n",
            "Train Epoch: 3 [36000 / 60000 ( 6e+01%)] \t 1.53894\n",
            "Train Epoch: 3 [38000 / 60000 ( 6e+01%)] \t 1.55791\n",
            "Train Epoch: 3 [40000 / 60000 ( 7e+01%)] \t 1.54538\n",
            "Train Epoch: 3 [42000 / 60000 ( 7e+01%)] \t 1.55768\n",
            "Train Epoch: 3 [44000 / 60000 ( 7e+01%)] \t 1.6218\n",
            "Train Epoch: 3 [46000 / 60000 ( 8e+01%)] \t 1.5653\n",
            "Train Epoch: 3 [48000 / 60000 ( 8e+01%)] \t 1.53257\n",
            "Train Epoch: 3 [50000 / 60000 ( 8e+01%)] \t 1.5749\n",
            "Train Epoch: 3 [52000 / 60000 ( 9e+01%)] \t 1.54535\n",
            "Train Epoch: 3 [54000 / 60000 ( 9e+01%)] \t 1.5387\n",
            "Train Epoch: 3 [56000 / 60000 ( 9e+01%)] \t 1.51841\n",
            "Train Epoch: 3 [58000 / 60000 ( 1e+02%)] \t 1.54408\n",
            "\n",
            "Test set: Average loss: 0.0150, Accuracy: 9624/10000 (96%\n",
            "\n",
            "Train Epoch: 4 [0 / 60000 ( 0e+00%)] \t 1.53738\n",
            "Train Epoch: 4 [2000 / 60000 ( 3e+00%)] \t 1.56606\n",
            "Train Epoch: 4 [4000 / 60000 ( 7e+00%)] \t 1.54644\n",
            "Train Epoch: 4 [6000 / 60000 ( 1e+01%)] \t 1.55683\n",
            "Train Epoch: 4 [8000 / 60000 ( 1e+01%)] \t 1.55436\n",
            "Train Epoch: 4 [10000 / 60000 ( 2e+01%)] \t 1.51776\n",
            "Train Epoch: 4 [12000 / 60000 ( 2e+01%)] \t 1.52505\n",
            "Train Epoch: 4 [14000 / 60000 ( 2e+01%)] \t 1.56337\n",
            "Train Epoch: 4 [16000 / 60000 ( 3e+01%)] \t 1.53793\n",
            "Train Epoch: 4 [18000 / 60000 ( 3e+01%)] \t 1.54963\n",
            "Train Epoch: 4 [20000 / 60000 ( 3e+01%)] \t 1.56448\n",
            "Train Epoch: 4 [22000 / 60000 ( 4e+01%)] \t 1.53686\n",
            "Train Epoch: 4 [24000 / 60000 ( 4e+01%)] \t 1.53893\n",
            "Train Epoch: 4 [26000 / 60000 ( 4e+01%)] \t 1.53376\n",
            "Train Epoch: 4 [28000 / 60000 ( 5e+01%)] \t 1.53813\n",
            "Train Epoch: 4 [30000 / 60000 ( 5e+01%)] \t 1.54139\n",
            "Train Epoch: 4 [32000 / 60000 ( 5e+01%)] \t 1.53023\n",
            "Train Epoch: 4 [34000 / 60000 ( 6e+01%)] \t 1.47594\n",
            "Train Epoch: 4 [36000 / 60000 ( 6e+01%)] \t 1.58322\n",
            "Train Epoch: 4 [38000 / 60000 ( 6e+01%)] \t 1.58945\n",
            "Train Epoch: 4 [40000 / 60000 ( 7e+01%)] \t 1.53555\n",
            "Train Epoch: 4 [42000 / 60000 ( 7e+01%)] \t 1.57776\n",
            "Train Epoch: 4 [44000 / 60000 ( 7e+01%)] \t 1.56706\n",
            "Train Epoch: 4 [46000 / 60000 ( 8e+01%)] \t 1.58684\n",
            "Train Epoch: 4 [48000 / 60000 ( 8e+01%)] \t 1.52246\n",
            "Train Epoch: 4 [50000 / 60000 ( 8e+01%)] \t 1.5149\n",
            "Train Epoch: 4 [52000 / 60000 ( 9e+01%)] \t 1.4867\n",
            "Train Epoch: 4 [54000 / 60000 ( 9e+01%)] \t 1.52282\n",
            "Train Epoch: 4 [56000 / 60000 ( 9e+01%)] \t 1.5246\n",
            "Train Epoch: 4 [58000 / 60000 ( 1e+02%)] \t 1.57198\n",
            "\n",
            "Test set: Average loss: 0.0149, Accuracy: 9670/10000 (97%\n",
            "\n",
            "Train Epoch: 5 [0 / 60000 ( 0e+00%)] \t 1.56608\n",
            "Train Epoch: 5 [2000 / 60000 ( 3e+00%)] \t 1.55367\n",
            "Train Epoch: 5 [4000 / 60000 ( 7e+00%)] \t 1.55813\n",
            "Train Epoch: 5 [6000 / 60000 ( 1e+01%)] \t 1.52558\n",
            "Train Epoch: 5 [8000 / 60000 ( 1e+01%)] \t 1.53365\n",
            "Train Epoch: 5 [10000 / 60000 ( 2e+01%)] \t 1.55251\n",
            "Train Epoch: 5 [12000 / 60000 ( 2e+01%)] \t 1.56069\n",
            "Train Epoch: 5 [14000 / 60000 ( 2e+01%)] \t 1.52536\n",
            "Train Epoch: 5 [16000 / 60000 ( 3e+01%)] \t 1.55537\n",
            "Train Epoch: 5 [18000 / 60000 ( 3e+01%)] \t 1.52287\n",
            "Train Epoch: 5 [20000 / 60000 ( 3e+01%)] \t 1.50625\n",
            "Train Epoch: 5 [22000 / 60000 ( 4e+01%)] \t 1.54207\n",
            "Train Epoch: 5 [24000 / 60000 ( 4e+01%)] \t 1.55678\n",
            "Train Epoch: 5 [26000 / 60000 ( 4e+01%)] \t 1.52509\n",
            "Train Epoch: 5 [28000 / 60000 ( 5e+01%)] \t 1.56561\n",
            "Train Epoch: 5 [30000 / 60000 ( 5e+01%)] \t 1.51202\n",
            "Train Epoch: 5 [32000 / 60000 ( 5e+01%)] \t 1.50743\n",
            "Train Epoch: 5 [34000 / 60000 ( 6e+01%)] \t 1.54236\n",
            "Train Epoch: 5 [36000 / 60000 ( 6e+01%)] \t 1.54674\n",
            "Train Epoch: 5 [38000 / 60000 ( 6e+01%)] \t 1.57828\n",
            "Train Epoch: 5 [40000 / 60000 ( 7e+01%)] \t 1.52613\n",
            "Train Epoch: 5 [42000 / 60000 ( 7e+01%)] \t 1.55578\n",
            "Train Epoch: 5 [44000 / 60000 ( 7e+01%)] \t 1.56737\n",
            "Train Epoch: 5 [46000 / 60000 ( 8e+01%)] \t 1.52166\n",
            "Train Epoch: 5 [48000 / 60000 ( 8e+01%)] \t 1.51722\n",
            "Train Epoch: 5 [50000 / 60000 ( 8e+01%)] \t 1.54576\n",
            "Train Epoch: 5 [52000 / 60000 ( 9e+01%)] \t 1.50905\n",
            "Train Epoch: 5 [54000 / 60000 ( 9e+01%)] \t 1.54213\n",
            "Train Epoch: 5 [56000 / 60000 ( 9e+01%)] \t 1.52362\n",
            "Train Epoch: 5 [58000 / 60000 ( 1e+02%)] \t 1.51584\n",
            "\n",
            "Test set: Average loss: 0.0149, Accuracy: 9718/10000 (97%\n",
            "\n",
            "Train Epoch: 6 [0 / 60000 ( 0e+00%)] \t 1.55161\n",
            "Train Epoch: 6 [2000 / 60000 ( 3e+00%)] \t 1.54147\n",
            "Train Epoch: 6 [4000 / 60000 ( 7e+00%)] \t 1.49559\n",
            "Train Epoch: 6 [6000 / 60000 ( 1e+01%)] \t 1.5025\n",
            "Train Epoch: 6 [8000 / 60000 ( 1e+01%)] \t 1.50686\n",
            "Train Epoch: 6 [10000 / 60000 ( 2e+01%)] \t 1.51687\n",
            "Train Epoch: 6 [12000 / 60000 ( 2e+01%)] \t 1.52622\n",
            "Train Epoch: 6 [14000 / 60000 ( 2e+01%)] \t 1.50523\n",
            "Train Epoch: 6 [16000 / 60000 ( 3e+01%)] \t 1.53589\n",
            "Train Epoch: 6 [18000 / 60000 ( 3e+01%)] \t 1.53254\n",
            "Train Epoch: 6 [20000 / 60000 ( 3e+01%)] \t 1.51632\n",
            "Train Epoch: 6 [22000 / 60000 ( 4e+01%)] \t 1.50063\n",
            "Train Epoch: 6 [24000 / 60000 ( 4e+01%)] \t 1.52373\n",
            "Train Epoch: 6 [26000 / 60000 ( 4e+01%)] \t 1.52458\n",
            "Train Epoch: 6 [28000 / 60000 ( 5e+01%)] \t 1.53569\n",
            "Train Epoch: 6 [30000 / 60000 ( 5e+01%)] \t 1.54156\n",
            "Train Epoch: 6 [32000 / 60000 ( 5e+01%)] \t 1.54359\n",
            "Train Epoch: 6 [34000 / 60000 ( 6e+01%)] \t 1.52322\n",
            "Train Epoch: 6 [36000 / 60000 ( 6e+01%)] \t 1.5436\n",
            "Train Epoch: 6 [38000 / 60000 ( 6e+01%)] \t 1.52291\n",
            "Train Epoch: 6 [40000 / 60000 ( 7e+01%)] \t 1.50601\n",
            "Train Epoch: 6 [42000 / 60000 ( 7e+01%)] \t 1.53195\n",
            "Train Epoch: 6 [44000 / 60000 ( 7e+01%)] \t 1.49974\n",
            "Train Epoch: 6 [46000 / 60000 ( 8e+01%)] \t 1.52316\n",
            "Train Epoch: 6 [48000 / 60000 ( 8e+01%)] \t 1.53278\n",
            "Train Epoch: 6 [50000 / 60000 ( 8e+01%)] \t 1.55139\n",
            "Train Epoch: 6 [52000 / 60000 ( 9e+01%)] \t 1.53698\n",
            "Train Epoch: 6 [54000 / 60000 ( 9e+01%)] \t 1.49884\n",
            "Train Epoch: 6 [56000 / 60000 ( 9e+01%)] \t 1.50859\n",
            "Train Epoch: 6 [58000 / 60000 ( 1e+02%)] \t 1.50468\n",
            "\n",
            "Test set: Average loss: 0.0149, Accuracy: 9721/10000 (97%\n",
            "\n",
            "Train Epoch: 7 [0 / 60000 ( 0e+00%)] \t 1.52027\n",
            "Train Epoch: 7 [2000 / 60000 ( 3e+00%)] \t 1.53596\n",
            "Train Epoch: 7 [4000 / 60000 ( 7e+00%)] \t 1.52978\n",
            "Train Epoch: 7 [6000 / 60000 ( 1e+01%)] \t 1.52886\n",
            "Train Epoch: 7 [8000 / 60000 ( 1e+01%)] \t 1.53546\n",
            "Train Epoch: 7 [10000 / 60000 ( 2e+01%)] \t 1.51819\n",
            "Train Epoch: 7 [12000 / 60000 ( 2e+01%)] \t 1.54599\n",
            "Train Epoch: 7 [14000 / 60000 ( 2e+01%)] \t 1.49724\n",
            "Train Epoch: 7 [16000 / 60000 ( 3e+01%)] \t 1.53374\n",
            "Train Epoch: 7 [18000 / 60000 ( 3e+01%)] \t 1.54873\n",
            "Train Epoch: 7 [20000 / 60000 ( 3e+01%)] \t 1.56955\n",
            "Train Epoch: 7 [22000 / 60000 ( 4e+01%)] \t 1.5256\n",
            "Train Epoch: 7 [24000 / 60000 ( 4e+01%)] \t 1.55682\n",
            "Train Epoch: 7 [26000 / 60000 ( 4e+01%)] \t 1.53877\n",
            "Train Epoch: 7 [28000 / 60000 ( 5e+01%)] \t 1.51223\n",
            "Train Epoch: 7 [30000 / 60000 ( 5e+01%)] \t 1.52872\n",
            "Train Epoch: 7 [32000 / 60000 ( 5e+01%)] \t 1.54015\n",
            "Train Epoch: 7 [34000 / 60000 ( 6e+01%)] \t 1.50622\n",
            "Train Epoch: 7 [36000 / 60000 ( 6e+01%)] \t 1.56235\n",
            "Train Epoch: 7 [38000 / 60000 ( 6e+01%)] \t 1.53671\n",
            "Train Epoch: 7 [40000 / 60000 ( 7e+01%)] \t 1.55266\n",
            "Train Epoch: 7 [42000 / 60000 ( 7e+01%)] \t 1.53955\n",
            "Train Epoch: 7 [44000 / 60000 ( 7e+01%)] \t 1.55102\n",
            "Train Epoch: 7 [46000 / 60000 ( 8e+01%)] \t 1.55582\n",
            "Train Epoch: 7 [48000 / 60000 ( 8e+01%)] \t 1.52926\n",
            "Train Epoch: 7 [50000 / 60000 ( 8e+01%)] \t 1.54048\n",
            "Train Epoch: 7 [52000 / 60000 ( 9e+01%)] \t 1.57539\n",
            "Train Epoch: 7 [54000 / 60000 ( 9e+01%)] \t 1.53021\n",
            "Train Epoch: 7 [56000 / 60000 ( 9e+01%)] \t 1.51091\n",
            "Train Epoch: 7 [58000 / 60000 ( 1e+02%)] \t 1.5454\n",
            "\n",
            "Test set: Average loss: 0.0149, Accuracy: 9726/10000 (97%\n",
            "\n",
            "Train Epoch: 8 [0 / 60000 ( 0e+00%)] \t 1.52\n",
            "Train Epoch: 8 [2000 / 60000 ( 3e+00%)] \t 1.52061\n",
            "Train Epoch: 8 [4000 / 60000 ( 7e+00%)] \t 1.47616\n",
            "Train Epoch: 8 [6000 / 60000 ( 1e+01%)] \t 1.50823\n",
            "Train Epoch: 8 [8000 / 60000 ( 1e+01%)] \t 1.56933\n",
            "Train Epoch: 8 [10000 / 60000 ( 2e+01%)] \t 1.51195\n",
            "Train Epoch: 8 [12000 / 60000 ( 2e+01%)] \t 1.50745\n",
            "Train Epoch: 8 [14000 / 60000 ( 2e+01%)] \t 1.51865\n",
            "Train Epoch: 8 [16000 / 60000 ( 3e+01%)] \t 1.56847\n",
            "Train Epoch: 8 [18000 / 60000 ( 3e+01%)] \t 1.52753\n",
            "Train Epoch: 8 [20000 / 60000 ( 3e+01%)] \t 1.55573\n",
            "Train Epoch: 8 [22000 / 60000 ( 4e+01%)] \t 1.54789\n",
            "Train Epoch: 8 [24000 / 60000 ( 4e+01%)] \t 1.5369\n",
            "Train Epoch: 8 [26000 / 60000 ( 4e+01%)] \t 1.51064\n",
            "Train Epoch: 8 [28000 / 60000 ( 5e+01%)] \t 1.52102\n",
            "Train Epoch: 8 [30000 / 60000 ( 5e+01%)] \t 1.53963\n",
            "Train Epoch: 8 [32000 / 60000 ( 5e+01%)] \t 1.55459\n",
            "Train Epoch: 8 [34000 / 60000 ( 6e+01%)] \t 1.51762\n",
            "Train Epoch: 8 [36000 / 60000 ( 6e+01%)] \t 1.51596\n",
            "Train Epoch: 8 [38000 / 60000 ( 6e+01%)] \t 1.53474\n",
            "Train Epoch: 8 [40000 / 60000 ( 7e+01%)] \t 1.55986\n",
            "Train Epoch: 8 [42000 / 60000 ( 7e+01%)] \t 1.52482\n",
            "Train Epoch: 8 [44000 / 60000 ( 7e+01%)] \t 1.52177\n",
            "Train Epoch: 8 [46000 / 60000 ( 8e+01%)] \t 1.50554\n",
            "Train Epoch: 8 [48000 / 60000 ( 8e+01%)] \t 1.50459\n",
            "Train Epoch: 8 [50000 / 60000 ( 8e+01%)] \t 1.50142\n",
            "Train Epoch: 8 [52000 / 60000 ( 9e+01%)] \t 1.51214\n",
            "Train Epoch: 8 [54000 / 60000 ( 9e+01%)] \t 1.53505\n",
            "Train Epoch: 8 [56000 / 60000 ( 9e+01%)] \t 1.48833\n",
            "Train Epoch: 8 [58000 / 60000 ( 1e+02%)] \t 1.52376\n",
            "\n",
            "Test set: Average loss: 0.0149, Accuracy: 9755/10000 (98%\n",
            "\n",
            "Train Epoch: 9 [0 / 60000 ( 0e+00%)] \t 1.54933\n",
            "Train Epoch: 9 [2000 / 60000 ( 3e+00%)] \t 1.53691\n",
            "Train Epoch: 9 [4000 / 60000 ( 7e+00%)] \t 1.4996\n",
            "Train Epoch: 9 [6000 / 60000 ( 1e+01%)] \t 1.49074\n",
            "Train Epoch: 9 [8000 / 60000 ( 1e+01%)] \t 1.51755\n",
            "Train Epoch: 9 [10000 / 60000 ( 2e+01%)] \t 1.54168\n",
            "Train Epoch: 9 [12000 / 60000 ( 2e+01%)] \t 1.537\n",
            "Train Epoch: 9 [14000 / 60000 ( 2e+01%)] \t 1.56072\n",
            "Train Epoch: 9 [16000 / 60000 ( 3e+01%)] \t 1.53156\n",
            "Train Epoch: 9 [18000 / 60000 ( 3e+01%)] \t 1.50112\n",
            "Train Epoch: 9 [20000 / 60000 ( 3e+01%)] \t 1.50692\n",
            "Train Epoch: 9 [22000 / 60000 ( 4e+01%)] \t 1.52904\n",
            "Train Epoch: 9 [24000 / 60000 ( 4e+01%)] \t 1.50162\n",
            "Train Epoch: 9 [26000 / 60000 ( 4e+01%)] \t 1.54166\n",
            "Train Epoch: 9 [28000 / 60000 ( 5e+01%)] \t 1.51863\n",
            "Train Epoch: 9 [30000 / 60000 ( 5e+01%)] \t 1.52542\n",
            "Train Epoch: 9 [32000 / 60000 ( 5e+01%)] \t 1.57276\n",
            "Train Epoch: 9 [34000 / 60000 ( 6e+01%)] \t 1.50589\n",
            "Train Epoch: 9 [36000 / 60000 ( 6e+01%)] \t 1.50014\n",
            "Train Epoch: 9 [38000 / 60000 ( 6e+01%)] \t 1.51956\n",
            "Train Epoch: 9 [40000 / 60000 ( 7e+01%)] \t 1.55155\n",
            "Train Epoch: 9 [42000 / 60000 ( 7e+01%)] \t 1.48387\n",
            "Train Epoch: 9 [44000 / 60000 ( 7e+01%)] \t 1.53412\n",
            "Train Epoch: 9 [46000 / 60000 ( 8e+01%)] \t 1.49434\n",
            "Train Epoch: 9 [48000 / 60000 ( 8e+01%)] \t 1.52771\n",
            "Train Epoch: 9 [50000 / 60000 ( 8e+01%)] \t 1.50165\n",
            "Train Epoch: 9 [52000 / 60000 ( 9e+01%)] \t 1.48584\n",
            "Train Epoch: 9 [54000 / 60000 ( 9e+01%)] \t 1.51886\n",
            "Train Epoch: 9 [56000 / 60000 ( 9e+01%)] \t 1.52797\n",
            "Train Epoch: 9 [58000 / 60000 ( 1e+02%)] \t 1.56131\n",
            "\n",
            "Test set: Average loss: 0.0148, Accuracy: 9768/10000 (98%\n",
            "\n",
            "Train Epoch: 10 [0 / 60000 ( 0e+00%)] \t 1.5272\n",
            "Train Epoch: 10 [2000 / 60000 ( 3e+00%)] \t 1.54395\n",
            "Train Epoch: 10 [4000 / 60000 ( 7e+00%)] \t 1.51853\n",
            "Train Epoch: 10 [6000 / 60000 ( 1e+01%)] \t 1.5096\n",
            "Train Epoch: 10 [8000 / 60000 ( 1e+01%)] \t 1.5469\n",
            "Train Epoch: 10 [10000 / 60000 ( 2e+01%)] \t 1.5007\n",
            "Train Epoch: 10 [12000 / 60000 ( 2e+01%)] \t 1.49679\n",
            "Train Epoch: 10 [14000 / 60000 ( 2e+01%)] \t 1.50794\n",
            "Train Epoch: 10 [16000 / 60000 ( 3e+01%)] \t 1.49593\n",
            "Train Epoch: 10 [18000 / 60000 ( 3e+01%)] \t 1.49946\n",
            "Train Epoch: 10 [20000 / 60000 ( 3e+01%)] \t 1.55231\n",
            "Train Epoch: 10 [22000 / 60000 ( 4e+01%)] \t 1.49583\n",
            "Train Epoch: 10 [24000 / 60000 ( 4e+01%)] \t 1.48755\n",
            "Train Epoch: 10 [26000 / 60000 ( 4e+01%)] \t 1.54382\n",
            "Train Epoch: 10 [28000 / 60000 ( 5e+01%)] \t 1.51831\n",
            "Train Epoch: 10 [30000 / 60000 ( 5e+01%)] \t 1.54096\n",
            "Train Epoch: 10 [32000 / 60000 ( 5e+01%)] \t 1.52617\n",
            "Train Epoch: 10 [34000 / 60000 ( 6e+01%)] \t 1.50322\n",
            "Train Epoch: 10 [36000 / 60000 ( 6e+01%)] \t 1.51139\n",
            "Train Epoch: 10 [38000 / 60000 ( 6e+01%)] \t 1.56685\n",
            "Train Epoch: 10 [40000 / 60000 ( 7e+01%)] \t 1.51364\n",
            "Train Epoch: 10 [42000 / 60000 ( 7e+01%)] \t 1.49504\n",
            "Train Epoch: 10 [44000 / 60000 ( 7e+01%)] \t 1.52004\n",
            "Train Epoch: 10 [46000 / 60000 ( 8e+01%)] \t 1.5033\n",
            "Train Epoch: 10 [48000 / 60000 ( 8e+01%)] \t 1.5613\n",
            "Train Epoch: 10 [50000 / 60000 ( 8e+01%)] \t 1.53816\n",
            "Train Epoch: 10 [52000 / 60000 ( 9e+01%)] \t 1.51323\n",
            "Train Epoch: 10 [54000 / 60000 ( 9e+01%)] \t 1.53168\n",
            "Train Epoch: 10 [56000 / 60000 ( 9e+01%)] \t 1.55097\n",
            "Train Epoch: 10 [58000 / 60000 ( 1e+02%)] \t 1.49328\n",
            "\n",
            "Test set: Average loss: 0.0148, Accuracy: 9774/10000 (98%\n",
            "\n"
          ]
        }
      ]
    },
    {
      "cell_type": "code",
      "source": [
        "device"
      ],
      "metadata": {
        "colab": {
          "base_uri": "https://localhost:8080/"
        },
        "id": "Zod_Jkf4pdZ3",
        "outputId": "3d130f38-797e-4dc6-9bf1-f09aa5b7edd5"
      },
      "execution_count": 28,
      "outputs": [
        {
          "output_type": "execute_result",
          "data": {
            "text/plain": [
              "device(type='cpu')"
            ]
          },
          "metadata": {},
          "execution_count": 28
        }
      ]
    },
    {
      "cell_type": "code",
      "source": [
        "import matplotlib.pyplot as plt\n",
        "\n",
        "model.eval()\n",
        "\n",
        "data, target = test_data[2]\n",
        "\n",
        "data = data.unsqueeze(0).to(device)\n",
        "\n",
        "output = model(data)\n",
        "\n",
        "prediction = output.argmax(dim=1, keepdim=True).item()\n",
        "\n",
        "print(f'Prediction: {prediction}')\n",
        "\n",
        "image = data.squeeze(0).squeeze(0).cpu().numpy()\n",
        "\n",
        "plt.imshow(image, cmap='gray')\n",
        "plt.show()"
      ],
      "metadata": {
        "colab": {
          "base_uri": "https://localhost:8080/",
          "height": 482
        },
        "id": "Gb1sBxPBqCSU",
        "outputId": "5f8a6eef-7c3d-43b4-a6cf-3a2a083a3b14"
      },
      "execution_count": 42,
      "outputs": [
        {
          "output_type": "stream",
          "name": "stderr",
          "text": [
            "<ipython-input-19-3d05f2e2349e>:24: UserWarning: Implicit dimension choice for softmax has been deprecated. Change the call to include dim=X as an argument.\n",
            "  return F.softmax(x)\n"
          ]
        },
        {
          "output_type": "stream",
          "name": "stdout",
          "text": [
            "Prediction: 1\n"
          ]
        },
        {
          "output_type": "display_data",
          "data": {
            "text/plain": [
              "<Figure size 640x480 with 1 Axes>"
            ],
            "image/png": "[encoded data removed]"
          },
          "metadata": {}
        }
      ]
    }
  ]
}